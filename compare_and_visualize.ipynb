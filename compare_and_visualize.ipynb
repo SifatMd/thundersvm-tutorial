{
 "cells": [
  {
   "cell_type": "markdown",
   "metadata": {
    "colab_type": "text",
    "id": "9peCDFg7szUl"
   },
   "source": [
    "## Speedup Comparison with Increasing Data"
   ]
  },
  {
   "cell_type": "code",
   "execution_count": 11,
   "metadata": {
    "colab": {},
    "colab_type": "code",
    "id": "PFFNVniXsw1L"
   },
   "outputs": [],
   "source": [
    "# import necessary libraries\n",
    "from sklearn.datasets import make_classification\n",
    "from sklearn.model_selection import train_test_split"
   ]
  },
  {
   "cell_type": "code",
   "execution_count": 12,
   "metadata": {
    "colab": {},
    "colab_type": "code",
    "id": "CXDHEvjHs-_S"
   },
   "outputs": [],
   "source": [
    "# make a timer class to measure speedup\n",
    "import time\n",
    "\n",
    "class Timer:    \n",
    "    def __enter__(self):\n",
    "        self.tick = time.time()\n",
    "        return self\n",
    "\n",
    "    def __exit__(self, *args, **kwargs):\n",
    "        self.tock = time.time()\n",
    "        self.elapsed = self.tock - self.tick"
   ]
  },
  {
   "cell_type": "markdown",
   "metadata": {
    "colab_type": "text",
    "id": "43zMnO-Ztn6X"
   },
   "source": [
    "### 50,000 Samples"
   ]
  },
  {
   "cell_type": "code",
   "execution_count": 13,
   "metadata": {
    "colab": {},
    "colab_type": "code",
    "id": "j_FLkLcnteO4"
   },
   "outputs": [],
   "source": [
    "# Create synthetic dataset of 50,000 samples\n",
    "X, y = make_classification(n_samples=50000, n_features=20, n_informative=17, n_redundant=3, random_state=5)\n",
    "X_train, X_test, y_train, y_test = train_test_split(X, y, test_size=.2, random_state=5)"
   ]
  },
  {
   "cell_type": "code",
   "execution_count": 14,
   "metadata": {
    "colab": {
     "base_uri": "https://localhost:8080/",
     "height": 34
    },
    "colab_type": "code",
    "id": "2Ov_nyeZtxDK",
    "outputId": "e154e66b-c9c6-43f1-f5fe-4097b736bd1f"
   },
   "outputs": [
    {
     "name": "stdout",
     "output_type": "stream",
     "text": [
      "time elapsed(seconds) for Fitting: 51.711225271224976, Prediction: 1.292419672012329, Scoring: 1.2877821922302246\n"
     ]
    }
   ],
   "source": [
    "# For normal support vector classifier\n",
    "from sklearn.svm import SVC\n",
    "\n",
    "# initializing classifier\n",
    "clf = SVC(C=100)\n",
    "\n",
    "# fitting to training data\n",
    "with Timer() as clf_fit:\n",
    "    clf.fit(X_train, y_train)\n",
    "\n",
    "# predicting test labels\n",
    "with Timer() as clf_predict:\n",
    "    clf.predict(X_test)\n",
    "\n",
    "# calculating test set accuracy\n",
    "with Timer() as clf_score:\n",
    "    clf.score(X_test, y_test)\n",
    "\n",
    "print('time elapsed(seconds) for Fitting: {}, Prediction: {}, Scoring: {}'.format(clf_fit.elapsed, clf_predict.elapsed, clf_score.elapsed))"
   ]
  },
  {
   "cell_type": "code",
   "execution_count": 15,
   "metadata": {
    "colab": {
     "base_uri": "https://localhost:8080/",
     "height": 34
    },
    "colab_type": "code",
    "id": "AVb8J82ct1uG",
    "outputId": "abdbe540-0f73-490f-81d0-211b4e5938a2"
   },
   "outputs": [
    {
     "name": "stdout",
     "output_type": "stream",
     "text": [
      "time elapsed(seconds) for Fitting: 2.5301835536956787, Prediction: 0.09035634994506836, Scoring: 0.09507393836975098\n"
     ]
    }
   ],
   "source": [
    "# For ThunderSVM support vector classifier\n",
    "from thundersvm import SVC\n",
    "\n",
    "model = SVC(C=100)\n",
    "with Timer() as model_fit:\n",
    "    model.fit(X_train, y_train)\n",
    "\n",
    "with Timer() as model_predict:\n",
    "    model.predict(X_test)\n",
    "\n",
    "with Timer() as model_score:\n",
    "    model.score(X_test, y_test)\n",
    "\n",
    "print('time elapsed(seconds) for Fitting: {}, Prediction: {}, Scoring: {}'.format(model_fit.elapsed, model_predict.elapsed, model_score.elapsed))"
   ]
  },
  {
   "cell_type": "code",
   "execution_count": 16,
   "metadata": {
    "colab": {
     "base_uri": "https://localhost:8080/",
     "height": 68
    },
    "colab_type": "code",
    "id": "fJF3udnct6f-",
    "outputId": "31bb5bf1-8871-4674-e6aa-85beb7b3e86d"
   },
   "outputs": [
    {
     "name": "stdout",
     "output_type": "stream",
     "text": [
      "ThunderSVM Fit Speedup with 50,000 samples: 20.4x\n",
      "ThunderSVM Predict Speedup with 50,000 samples: 14.3x\n",
      "ThunderSVM Score Speedup with 50,000 samples: 13.5x\n"
     ]
    }
   ],
   "source": [
    "ratio_small_fit = clf_fit.elapsed/model_fit.elapsed\n",
    "ratio_small_predict = clf_predict.elapsed/model_predict.elapsed\n",
    "ratio_small_score = clf_score.elapsed/model_score.elapsed\n",
    "print('ThunderSVM Fit Speedup with 50,000 samples: {:.1f}x'.format(ratio_small_fit))\n",
    "print('ThunderSVM Predict Speedup with 50,000 samples: {:.1f}x'.format(ratio_small_predict))\n",
    "print('ThunderSVM Score Speedup with 50,000 samples: {:.1f}x'.format(ratio_small_score))"
   ]
  },
  {
   "cell_type": "markdown",
   "metadata": {
    "colab_type": "text",
    "id": "DOWtZaa9ujdT"
   },
   "source": [
    "### 100,000 Samples"
   ]
  },
  {
   "cell_type": "code",
   "execution_count": 17,
   "metadata": {
    "colab": {},
    "colab_type": "code",
    "id": "izf8hNHiug0O"
   },
   "outputs": [],
   "source": [
    "# Create synthetic dataset of 100,000 samples\n",
    "X, y = make_classification(n_samples=100000, n_features=20, n_informative=17, n_redundant=3, random_state=5)\n",
    "X_train, X_test, y_train, y_test = train_test_split(X, y, test_size=.2, random_state=5)"
   ]
  },
  {
   "cell_type": "code",
   "execution_count": 18,
   "metadata": {
    "colab": {
     "base_uri": "https://localhost:8080/",
     "height": 34
    },
    "colab_type": "code",
    "id": "G-yQz1K4uomE",
    "outputId": "c8891443-8118-4fc9-b1b1-6edf0312bb89"
   },
   "outputs": [
    {
     "name": "stdout",
     "output_type": "stream",
     "text": [
      "time elapsed(seconds) for Fitting: 273.9762532711029, Prediction: 4.517712593078613, Scoring: 4.528522253036499\n"
     ]
    }
   ],
   "source": [
    "# For normal support vector classifier\n",
    "from sklearn.svm import SVC\n",
    "\n",
    "# initializing classifier\n",
    "clf = SVC(C=100)\n",
    "\n",
    "# fitting to training data\n",
    "with Timer() as clf_fit:\n",
    "    clf.fit(X_train, y_train)\n",
    "\n",
    "# predicting test labels\n",
    "with Timer() as clf_predict:\n",
    "    clf.predict(X_test)\n",
    "\n",
    "# calculating test set accuracy\n",
    "with Timer() as clf_score:\n",
    "    clf.score(X_test, y_test)\n",
    "\n",
    "print('time elapsed(seconds) for Fitting: {}, Prediction: {}, Scoring: {}'.format(clf_fit.elapsed, clf_predict.elapsed, clf_score.elapsed))"
   ]
  },
  {
   "cell_type": "code",
   "execution_count": 19,
   "metadata": {
    "colab": {
     "base_uri": "https://localhost:8080/",
     "height": 34
    },
    "colab_type": "code",
    "id": "BXya-CjJuqi0",
    "outputId": "2cdfd7d9-bd61-4d97-c426-dd58a042c6f7"
   },
   "outputs": [
    {
     "name": "stdout",
     "output_type": "stream",
     "text": [
      "time elapsed(seconds) for Fitting: 3.8722360134124756, Prediction: 0.26117634773254395, Scoring: 0.26154255867004395\n"
     ]
    }
   ],
   "source": [
    "# For ThunderSVM support vector classifier\n",
    "from thundersvm import SVC\n",
    "\n",
    "model = SVC(C=100)\n",
    "with Timer() as model_fit:\n",
    "    model.fit(X_train, y_train)\n",
    "\n",
    "with Timer() as model_predict:\n",
    "    model.predict(X_test)\n",
    "\n",
    "with Timer() as model_score:\n",
    "    model.score(X_test, y_test)\n",
    "\n",
    "print('time elapsed(seconds) for Fitting: {}, Prediction: {}, Scoring: {}'.format(model_fit.elapsed, model_predict.elapsed, model_score.elapsed))"
   ]
  },
  {
   "cell_type": "code",
   "execution_count": 20,
   "metadata": {
    "colab": {
     "base_uri": "https://localhost:8080/",
     "height": 68
    },
    "colab_type": "code",
    "id": "PzYjJ6fbutyf",
    "outputId": "1541d674-d88b-4ca6-e9a6-9f53c42dd0d8"
   },
   "outputs": [
    {
     "name": "stdout",
     "output_type": "stream",
     "text": [
      "ThunderSVM Fit Speedup with 100,000 samples: 70.8x\n",
      "ThunderSVM Predict Speedup with 100,000 samples: 17.3x\n",
      "ThunderSVM Score Speedup with 100,000 samples: 17.3x\n"
     ]
    }
   ],
   "source": [
    "ratio_medium_fit = clf_fit.elapsed/model_fit.elapsed\n",
    "ratio_medium_predict = clf_predict.elapsed/model_predict.elapsed\n",
    "ratio_medium_score = clf_score.elapsed/model_score.elapsed\n",
    "print('ThunderSVM Fit Speedup with 100,000 samples: {:.1f}x'.format(ratio_medium_fit))\n",
    "print('ThunderSVM Predict Speedup with 100,000 samples: {:.1f}x'.format(ratio_medium_predict))\n",
    "print('ThunderSVM Score Speedup with 100,000 samples: {:.1f}x'.format(ratio_medium_score))"
   ]
  },
  {
   "cell_type": "markdown",
   "metadata": {
    "colab_type": "text",
    "id": "8YnWbRj7vAHd"
   },
   "source": [
    "### 200,000 Samples"
   ]
  },
  {
   "cell_type": "code",
   "execution_count": 21,
   "metadata": {
    "colab": {},
    "colab_type": "code",
    "id": "V0gAhKb1u_bi"
   },
   "outputs": [],
   "source": [
    "# Create synthetic dataset of 200,000 samples\n",
    "X, y = make_classification(n_samples=200000, n_features=20, n_informative=17, n_redundant=3, random_state=5)\n",
    "X_train, X_test, y_train, y_test = train_test_split(X, y, test_size=.2, random_state=5)"
   ]
  },
  {
   "cell_type": "code",
   "execution_count": 22,
   "metadata": {
    "colab": {
     "base_uri": "https://localhost:8080/",
     "height": 34
    },
    "colab_type": "code",
    "id": "RDAZtGm2wRF8",
    "outputId": "08daecae-3632-459b-9f57-cf3ebd1236d7"
   },
   "outputs": [
    {
     "name": "stdout",
     "output_type": "stream",
     "text": [
      "time elapsed(seconds) for Fitting: 1187.408833026886, Prediction: 15.234562873840332, Scoring: 15.227298021316528\n"
     ]
    }
   ],
   "source": [
    "# For normal support vector classifier\n",
    "from sklearn.svm import SVC\n",
    "\n",
    "# initializing classifier\n",
    "clf = SVC(C=100)\n",
    "\n",
    "# fitting to training data\n",
    "with Timer() as clf_fit:\n",
    "    clf.fit(X_train, y_train)\n",
    "\n",
    "# predicting test labels\n",
    "with Timer() as clf_predict:\n",
    "    clf.predict(X_test)\n",
    "\n",
    "# calculating test set accuracy\n",
    "with Timer() as clf_score:\n",
    "    clf.score(X_test, y_test)\n",
    "\n",
    "print('time elapsed(seconds) for Fitting: {}, Prediction: {}, Scoring: {}'.format(clf_fit.elapsed, clf_predict.elapsed, clf_score.elapsed))"
   ]
  },
  {
   "cell_type": "code",
   "execution_count": 23,
   "metadata": {
    "colab": {
     "base_uri": "https://localhost:8080/",
     "height": 34
    },
    "colab_type": "code",
    "id": "BDCIjWiHwUKz",
    "outputId": "b2771f33-8e3c-4b05-df64-e691c3f8ff30"
   },
   "outputs": [
    {
     "name": "stdout",
     "output_type": "stream",
     "text": [
      "time elapsed(seconds) for Fitting: 9.702246189117432, Prediction: 0.7518868446350098, Scoring: 0.7560544013977051\n"
     ]
    }
   ],
   "source": [
    "# For ThunderSVM support vector classifier\n",
    "from thundersvm import SVC\n",
    "\n",
    "model = SVC(C=100)\n",
    "with Timer() as model_fit:\n",
    "    model.fit(X_train, y_train)\n",
    "\n",
    "with Timer() as model_predict:\n",
    "    model.predict(X_test)\n",
    "\n",
    "with Timer() as model_score:\n",
    "    model.score(X_test, y_test)\n",
    "\n",
    "print('time elapsed(seconds) for Fitting: {}, Prediction: {}, Scoring: {}'.format(model_fit.elapsed, model_predict.elapsed, model_score.elapsed))"
   ]
  },
  {
   "cell_type": "code",
   "execution_count": 25,
   "metadata": {
    "colab": {
     "base_uri": "https://localhost:8080/",
     "height": 68
    },
    "colab_type": "code",
    "id": "tF1JrwG_wYYA",
    "outputId": "e236aa3a-877f-4f92-c52b-cf1767e3d427"
   },
   "outputs": [
    {
     "name": "stdout",
     "output_type": "stream",
     "text": [
      "ThunderSVM Fit Speedup with 200,000 samples: 122.4x\n",
      "ThunderSVM Predict Speedup with 200,000 samples: 20.3x\n",
      "ThunderSVM Score Speedup with 200,000 samples: 20.1x\n"
     ]
    }
   ],
   "source": [
    "ratio_large_fit = clf_fit.elapsed/model_fit.elapsed\n",
    "ratio_large_predict = clf_predict.elapsed/model_predict.elapsed\n",
    "ratio_large_score = clf_score.elapsed/model_score.elapsed\n",
    "print('ThunderSVM Fit Speedup with 200,000 samples: {:.1f}x'.format(ratio_large_fit))\n",
    "print('ThunderSVM Predict Speedup with 200,000 samples: {:.1f}x'.format(ratio_large_predict))\n",
    "print('ThunderSVM Score Speedup with 200,000 samples: {:.1f}x'.format(ratio_large_score))"
   ]
  },
  {
   "cell_type": "markdown",
   "metadata": {
    "colab_type": "text",
    "id": "Z6I5nlbLwtKy"
   },
   "source": [
    "## Visualization"
   ]
  },
  {
   "cell_type": "code",
   "execution_count": 42,
   "metadata": {
    "colab": {},
    "colab_type": "code",
    "id": "svGeRepzwl0n"
   },
   "outputs": [],
   "source": [
    "import matplotlib.pyplot as plt\n",
    "import seaborn as sns\n",
    "\n",
    "%matplotlib inline"
   ]
  },
  {
   "cell_type": "code",
   "execution_count": 43,
   "metadata": {
    "colab": {
     "base_uri": "https://localhost:8080/",
     "height": 455
    },
    "colab_type": "code",
    "id": "ZlbTQGnKxBdw",
    "outputId": "612113ef-1652-426e-e2a7-a0408a279bd7"
   },
   "outputs": [
    {
     "data": {
      "image/png": "[encoded data removed]",
      "text/plain": [
       "<Figure size 1008x504 with 3 Axes>"
      ]
     },
     "metadata": {
      "needs_background": "light",
      "tags": []
     },
     "output_type": "display_data"
    }
   ],
   "source": [
    "plt.figure(figsize=(14, 7))\n",
    "plt.style.use('seaborn')\n",
    "plt.suptitle('Performance Speedup for ThunderSVM', fontsize=32)\n",
    "\n",
    "ax1 = plt.subplot(1,3,1)\n",
    "plt.bar([1, 2, 3], [ratio_small_fit, ratio_medium_fit, ratio_large_fit], color='#7b4eed');\n",
    "plt.xticks([1,2,3], ('50K', '100K', '200K'), fontsize=14)\n",
    "plt.yticks(fontsize=14)\n",
    "plt.xlabel('Amount of Data', fontsize=16)\n",
    "plt.ylabel('ThunderSVM SpeedUp', fontsize=16)\n",
    "plt.title('Fit function', fontsize=19)\n",
    "\n",
    "ax2 = plt.subplot(1,3,2)\n",
    "plt.bar([1, 2, 3], [ratio_small_predict, ratio_medium_predict, ratio_large_predict], color='#7b4eed');\n",
    "plt.xticks([1,2,3], ('50K', '100K', '200K'), fontsize=14)\n",
    "plt.yticks(fontsize=14)\n",
    "plt.xlabel('Amount of Data', fontsize=16)\n",
    "plt.ylabel('ThunderSVM SpeedUp', fontsize=16)\n",
    "plt.title('Predict function', fontsize=19)\n",
    "\n",
    "ax3 = plt.subplot(1,3,3)\n",
    "plt.bar([1, 2, 3], [ratio_small_score, ratio_medium_score, ratio_large_score], color='#7b4eed');\n",
    "plt.xticks([1,2,3], ('50K', '100K', '200K'), fontsize=14)\n",
    "plt.yticks(fontsize=14)\n",
    "plt.xlabel('Amount of Data', fontsize=16)\n",
    "plt.ylabel('ThunderSVM SpeedUp', fontsize=16)\n",
    "plt.title('Score function', fontsize=19)\n",
    "\n",
    "plt.tight_layout(pad=7)\n",
    "plt.savefig('graph.png')"
   ]
  },
  {
   "cell_type": "code",
   "execution_count": null,
   "metadata": {
    "colab": {},
    "colab_type": "code",
    "id": "GtPIE9pv2IPi"
   },
   "outputs": [],
   "source": []
  }
 ],
 "metadata": {
  "accelerator": "GPU",
  "colab": {
   "collapsed_sections": [],
   "name": "svm_visual.ipynb",
   "provenance": []
  },
  "kernelspec": {
   "display_name": "Python 3",
   "language": "python",
   "name": "python3"
  },
  "language_info": {
   "codemirror_mode": {
    "name": "ipython",
    "version": 3
   },
   "file_extension": ".py",
   "mimetype": "text/x-python",
   "name": "python",
   "nbconvert_exporter": "python",
   "pygments_lexer": "ipython3",
   "version": "3.7.7"
  }
 },
 "nbformat": 4,
 "nbformat_minor": 1
}
