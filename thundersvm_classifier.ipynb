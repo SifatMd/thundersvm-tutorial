{
  "nbformat": 4,
  "nbformat_minor": 0,
  "metadata": {
    "colab": {
      "name": "svm_gist_exec.ipynb",
      "provenance": [],
      "collapsed_sections": []
    },
    "kernelspec": {
      "name": "python3",
      "display_name": "Python 3"
    },
    "accelerator": "GPU"
  },
  "cells": [
    {
      "cell_type": "markdown",
      "metadata": {
        "id": "KI5erD4p-5W-",
        "colab_type": "text"
      },
      "source": [
        "## Running ThunderSVM"
      ]
    },
    {
      "cell_type": "code",
      "metadata": {
        "id": "8sgbYLjj-ZpY",
        "colab_type": "code",
        "colab": {}
      },
      "source": [
        "# import necessary libraries\n",
        "from sklearn.datasets import make_classification\n",
        "from sklearn.model_selection import train_test_split\n",
        "from thundersvm import SVC"
      ],
      "execution_count": 12,
      "outputs": []
    },
    {
      "cell_type": "code",
      "metadata": {
        "id": "p3eqpEVf_DM2",
        "colab_type": "code",
        "colab": {}
      },
      "source": [
        "# Create synthetic dataset of 100000 samples\n",
        "X, y = make_classification(n_samples=100000, n_features=20, n_informative=17, n_redundant=3, random_state=5)\n",
        "X_train, X_test, y_train, y_test = train_test_split(X, y, test_size=.2, random_state=5) #put 80% data in training set"
      ],
      "execution_count": 13,
      "outputs": []
    },
    {
      "cell_type": "code",
      "metadata": {
        "id": "Z0UM81M4_PpG",
        "colab_type": "code",
        "colab": {
          "base_uri": "https://localhost:8080/",
          "height": 34
        },
        "outputId": "a9a0b4ee-56d3-467c-8d9a-41599adca6bc"
      },
      "source": [
        "# Initialize model\n",
        "model = SVC(C=100, kernel='rbf')\n",
        "\n",
        "# Fit the model to training data\n",
        "model.fit(X_train, y_train)\n",
        "\n",
        "# Check test set accuracy\n",
        "accuracy = model.score(X_test, y_test)\n",
        "\n",
        "print('Accuracy: {}'.format(accuracy))"
      ],
      "execution_count": 14,
      "outputs": [
        {
          "output_type": "stream",
          "text": [
            "Accuracy: 0.98125\n"
          ],
          "name": "stdout"
        }
      ]
    },
    {
      "cell_type": "code",
      "metadata": {
        "id": "DXZ6ySA1_1vJ",
        "colab_type": "code",
        "colab": {}
      },
      "source": [
        ""
      ],
      "execution_count": null,
      "outputs": []
    }
  ]
}