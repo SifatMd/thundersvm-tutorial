{
 "cells": [
  {
   "cell_type": "markdown",
   "metadata": {
    "colab_type": "text",
    "id": "WzFu9m9aEjN4"
   },
   "source": [
    "## Comparing Runtime"
   ]
  },
  {
   "cell_type": "code",
   "execution_count": 12,
   "metadata": {
    "colab": {},
    "colab_type": "code",
    "id": "3tFbSXt9Eg_n"
   },
   "outputs": [],
   "source": [
    "# import necessary libraries\n",
    "from sklearn.datasets import make_classification\n",
    "from sklearn.model_selection import train_test_split"
   ]
  },
  {
   "cell_type": "code",
   "execution_count": 13,
   "metadata": {
    "colab": {},
    "colab_type": "code",
    "id": "t49QnhcfFNx4"
   },
   "outputs": [],
   "source": [
    "# make a timer class to measure speedup\n",
    "import time\n",
    "\n",
    "class Timer:    \n",
    "    def __enter__(self):\n",
    "        self.tick = time.time()\n",
    "        return self\n",
    "\n",
    "    def __exit__(self, *args, **kwargs):\n",
    "        self.tock = time.time()\n",
    "        self.elapsed = self.tock - self.tick"
   ]
  },
  {
   "cell_type": "code",
   "execution_count": 14,
   "metadata": {
    "colab": {},
    "colab_type": "code",
    "id": "RY7urWm5FR59"
   },
   "outputs": [],
   "source": [
    "# Create synthetic dataset of 100000 samples\n",
    "X, y = make_classification(n_samples=100000, n_features=20, n_informative=17, n_redundant=3, random_state=5)\n",
    "X_train, X_test, y_train, y_test = train_test_split(X, y, test_size=.2, random_state=5)"
   ]
  },
  {
   "cell_type": "code",
   "execution_count": 15,
   "metadata": {
    "colab": {
     "base_uri": "https://localhost:8080/",
     "height": 34
    },
    "colab_type": "code",
    "id": "6Yv_P2j_FVBQ",
    "outputId": "754f38ec-a1b4-457a-b41d-15c58d2a85f5"
   },
   "outputs": [
    {
     "name": "stdout",
     "output_type": "stream",
     "text": [
      "time elapsed(seconds) for Fitting: 271.13493967056274, Prediction: 4.520876169204712, Scoring: 4.524922609329224\n"
     ]
    }
   ],
   "source": [
    "# For normal support vector classifier\n",
    "from sklearn.svm import SVC\n",
    "\n",
    "# initializing classifier\n",
    "clf = SVC(C=100)\n",
    "\n",
    "# fitting to training data\n",
    "with Timer() as clf_fit:\n",
    "    clf.fit(X_train, y_train)\n",
    "\n",
    "# predicting test labels\n",
    "with Timer() as clf_predict:\n",
    "    clf.predict(X_test)\n",
    "\n",
    "# calculating test set accuracy\n",
    "with Timer() as clf_score:\n",
    "    clf.score(X_test, y_test)\n",
    "\n",
    "print('time elapsed(seconds) for Fitting: {}, Prediction: {}, Scoring: {}'.format(clf_fit.elapsed, clf_predict.elapsed, clf_score.elapsed))"
   ]
  },
  {
   "cell_type": "code",
   "execution_count": 16,
   "metadata": {
    "colab": {
     "base_uri": "https://localhost:8080/",
     "height": 34
    },
    "colab_type": "code",
    "id": "e37rdZPHFZBG",
    "outputId": "307b50da-43d4-4b48-eaf3-bd1582c11344"
   },
   "outputs": [
    {
     "name": "stdout",
     "output_type": "stream",
     "text": [
      "time elapsed(seconds) for Fitting: 4.822345018386841, Prediction: 0.25602006912231445, Scoring: 0.2637507915496826\n"
     ]
    }
   ],
   "source": [
    "# For ThunderSVM support vector classifier\n",
    "from thundersvm import SVC\n",
    "\n",
    "model = SVC(C=100)\n",
    "with Timer() as model_fit:\n",
    "    model.fit(X_train, y_train)\n",
    "\n",
    "with Timer() as model_predict:\n",
    "    model.predict(X_test)\n",
    "\n",
    "with Timer() as model_score:\n",
    "    model.score(X_test, y_test)\n",
    "\n",
    "print('time elapsed(seconds) for Fitting: {}, Prediction: {}, Scoring: {}'.format(model_fit.elapsed, model_predict.elapsed, model_score.elapsed))"
   ]
  },
  {
   "cell_type": "code",
   "execution_count": 17,
   "metadata": {
    "colab": {
     "base_uri": "https://localhost:8080/",
     "height": 68
    },
    "colab_type": "code",
    "id": "dGogwEhIFfMW",
    "outputId": "578b6318-df8e-49c9-be9a-92eb26629594"
   },
   "outputs": [
    {
     "name": "stdout",
     "output_type": "stream",
     "text": [
      "ThunderSVM Fit Speedup with 100,000 samples: 56.2x\n",
      "ThunderSVM Predict Speedup with 100,000 samples: 17.7x\n",
      "ThunderSVM Score Speedup with 100,000 samples: 17.2x\n"
     ]
    }
   ],
   "source": [
    "print('ThunderSVM Fit Speedup with 100,000 samples: {:.1f}x'.format(clf_fit.elapsed/model_fit.elapsed))\n",
    "print('ThunderSVM Predict Speedup with 100,000 samples: {:.1f}x'.format(clf_predict.elapsed/model_predict.elapsed))\n",
    "print('ThunderSVM Score Speedup with 100,000 samples: {:.1f}x'.format(clf_score.elapsed/model_score.elapsed))"
   ]
  },
  {
   "cell_type": "code",
   "execution_count": null,
   "metadata": {
    "colab": {},
    "colab_type": "code",
    "id": "OQ0RKYPTGUuo"
   },
   "outputs": [],
   "source": []
  }
 ],
 "metadata": {
  "accelerator": "GPU",
  "colab": {
   "collapsed_sections": [],
   "name": "svm_gist_comparison.ipynb",
   "provenance": []
  },
  "kernelspec": {
   "display_name": "Python 3",
   "language": "python",
   "name": "python3"
  },
  "language_info": {
   "codemirror_mode": {
    "name": "ipython",
    "version": 3
   },
   "file_extension": ".py",
   "mimetype": "text/x-python",
   "name": "python",
   "nbconvert_exporter": "python",
   "pygments_lexer": "ipython3",
   "version": "3.7.7"
  }
 },
 "nbformat": 4,
 "nbformat_minor": 1
}
